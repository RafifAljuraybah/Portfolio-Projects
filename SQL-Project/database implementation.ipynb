{
  "nbformat": 4,
  "nbformat_minor": 0,
  "metadata": {
    "colab": {
      "provenance": [],
      "collapsed_sections": [
        "FxShKSkZVqc4",
        "g4hSuFT2YqTX"
      ]
    },
    "kernelspec": {
      "name": "python3",
      "display_name": "Python 3"
    },
    "language_info": {
      "name": "python"
    }
  },
  "cells": [
    {
      "cell_type": "markdown",
      "source": [
        "# **INF111-INF112 Project Assignment - Python implementation**\n",
        "\n",
        "_Last updated: 29 November 2023_\n",
        "\n",
        "This Jupyter notebook outlines the implementation requirements for the Python implementation part of your INF111-INF112 practical project.\n",
        "\n",
        "## The notebook is broken up into four sections:\n",
        "\n",
        "1. **Required functions** -- The Python functions and functionality you are required to implement as part of your programming project.\n",
        "2. **Your implementation** -- Space for you to add your own implementation to this notebook.\n",
        "3. **Summary report generation** -- Base implementation for generating the summary report from your data, **with space for you to add your own implementation _(see details in section)_**.\n",
        "4. **Automated testing** -- Unit tests to verify that your implementation of the required functions is valid.\n",
        "\n",
        "### **NOTE** that to accomplish the goals of your project, you may need to implement functions that are not specified in this notebook.\n",
        "\n",
        "### The task of a programmer is to take a _specification_, which describes the behaviour a program should implement, and write the code required to produce that behaviour.\n",
        "\n",
        "### For full details of the expected behaviour and implementation standards, please refer to the [INF111-INF112 Project Assignment Brief](https://docs.google.com/document/d/1ajALWwIqV49aiv3wtLK1lqv2ObKwWIqmnUfR6c4B5rQ/edit?usp=sharing).\n",
        "\n",
        "\n",
        "---\n",
        "\n",
        "## **For INF111 Mid-Semester Check-in 2 (Week 9)**:\n",
        "\n",
        "- You are free to use your example CSV file from your Mid-Semester Check-in 1 submission (or a modified version of it) as your data source. **You are not required to submit a SQL file for INF111 Check-in 2.**\n",
        "- Please submit your _**in-progress**_ copy of this Jupyter notebook to the TurnItIn link on INF111 Blackboard.\n",
        "- You are not required to meet any specific milestones for your Check-in 2 submission, however the more code you submit the more you will be able to get feedback on.\n",
        "\n",
        "## **For INF111-INF112 final submission (Week 12)**:\n",
        "\n",
        "- **For final submission you are required to use your SQLite database file for all data storage and retrieval.**\n",
        "- Your Jupyter notebook must assume that your SQLite database file is stored in the same working directory as the notebook file.\n",
        "- Please submit your _**completed**_ copy of this Jupyter notebook to the TurnItIn link on INF111 Blackboard.\n",
        "- Please submit your SQLite database file to the TurnItIn link on INF112 Blackboard."
      ],
      "metadata": {
        "id": "JUPzf2Fu0H0A"
      }
    },
    {
      "cell_type": "markdown",
      "source": [
        "---\n",
        "---\n",
        "# **Section 1: Required functions**\n",
        "\n",
        "This section provides information about the\n",
        " **minimum set of functions/functionality required** for your project submission.\n",
        "\n",
        "The required functions are split into two sections:\n",
        "\n",
        "1. **Automated testing applied:** functions which the unit tests in the \"Automated testing\" section at the end of this notebook are designed to test.\n",
        "2. **No automated testing applied:** functions which will not be automatically tested to verify their behaviour, but will be read during marking."
      ],
      "metadata": {
        "id": "k4xbToERCVOL"
      }
    },
    {
      "cell_type": "markdown",
      "source": [
        "---\n",
        "## Automated testing applied\n",
        "\n",
        "Methods in this section will be subject to automated testing using the unit tests defined in the \"Automated testing\" section of this notebook.\n",
        "\n",
        "### **The specification (name, input, and output) of these methods must not be changed or the automated testing will fail.**\n",
        "\n",
        "### **NOTE** You are free to implement these functions directly in the code blocks in this section or in your own code elsewhere in the notebook."
      ],
      "metadata": {
        "id": "EM9i7IYUVajw"
      }
    },
    {
      "cell_type": "markdown",
      "source": [
        "### helper function for automated tested functions\n",
        "*other helper function (executeQuery and getColumnsName) are used too, but implemented in next section."
      ],
      "metadata": {
        "id": "4u2IaXoOEunK"
      }
    },
    {
      "cell_type": "code",
      "source": [
        "def getColumnsValues(data_file, columns_map):\n",
        "  '''this is a helper function takes columns_map that contains mapping of columns\n",
        "  of some columns and returns a dictionary where the keys are column names and\n",
        "  the values are lists containing the column values'''\n",
        "  #set up a dictionaty to store the columns values in\n",
        "  result_dict = {}\n",
        "  for columns in columns_map.values():\n",
        "    for column in columns:\n",
        "      result_dict[column] = []\n",
        "  #go through each table\n",
        "  for table, columns in columns_map.items():\n",
        "    #get the values for the tables column\n",
        "    fetchall = executeQuery(data_file, f\"SELECT {', '.join(columns)} FROM {table}\")\n",
        "    #go through each row and store its values in result_dict according to the index(column name)\n",
        "    for row in fetchall:\n",
        "      for i, value in enumerate(row):\n",
        "        result_dict[columns[i]].append(value)\n",
        "  return result_dict"
      ],
      "metadata": {
        "id": "o0KvLdaSEtvb"
      },
      "execution_count": 1,
      "outputs": []
    },
    {
      "cell_type": "markdown",
      "source": [
        "### `getNumericColumns`\n",
        "\n",
        "This function must return a **dictionary** where:\n",
        "\n",
        "- **Dictionary keys** are the names of columns with **real-valued** data;\n",
        "- **Dictionary values** are lists of values from those columns\n",
        "\n",
        "This function must return a **single dictionary containing the numeric columns from ALL tables in your database combined**."
      ],
      "metadata": {
        "id": "2SfZGvOTzh6m"
      }
    },
    {
      "cell_type": "code",
      "source": [
        "def getNumericColumns(data_file):\n",
        "  '''this function returns a dictionary with all numeric columns and their values'''\n",
        "  numeric_columns_map = {'Luggage': ['luggage_tag_id', 'weight_kg']}\n",
        "  return getColumnsValues(data_file, numeric_columns_map)"
      ],
      "metadata": {
        "id": "Zy3Z84TjCaLR"
      },
      "execution_count": 2,
      "outputs": []
    },
    {
      "cell_type": "markdown",
      "source": [
        "### `getCategoricalColumns`\n",
        "\n",
        "This function must return a **dictionary** where:\n",
        "\n",
        "- **Dictionary keys** are the names of columns with **categorical** data;\n",
        "- **Dictionary values** are lists of values from those columns\n",
        "\n",
        "This function must return a **single dictionary containing the categorical columns from ALL tables in your database combined**."
      ],
      "metadata": {
        "id": "5epssk6Gz6ED"
      }
    },
    {
      "cell_type": "code",
      "execution_count": 3,
      "metadata": {
        "id": "t9Ig3VOrBl3j"
      },
      "outputs": [],
      "source": [
        "def getCategoricalColumns(data_file):\n",
        "  '''Return a dictionary with all categorical columns with their values'''\n",
        "  categorical_columns_map = {\n",
        "    'Route': ['flight_number', 'airline', 'arrival_airport_code', 'departure_airport_code'],\n",
        "    'FlightInfo': ['departure_gate_number', 'arrival_gate_number', 'flight_status'],\n",
        "    'PassengerFlight': ['seat_number'],\n",
        "    'Luggage': ['luggage_status']\n",
        "    }\n",
        "  return getColumnsValues(data_file, categorical_columns_map)"
      ]
    },
    {
      "cell_type": "markdown",
      "source": [
        "### `getFreeTextColumns`\n",
        "\n",
        "This function must return a **dictionary** where:\n",
        "\n",
        "- **Dictionary keys** are the names of columns with **free text** data;\n",
        "- **Dictionary values** are lists of values from those columns\n",
        "\n",
        "This function must return a **single dictionary containing the free text columns from ALL tables in your database combined**."
      ],
      "metadata": {
        "id": "0lGldJ1x0RZI"
      }
    },
    {
      "cell_type": "code",
      "source": [
        "def getFreeTextColumns(data_file):\n",
        "  '''this function returns all free-text column and their values in a dictonary'''\n",
        "  FreeText_columns_map = {\n",
        "    'PassengerInfo' : ['id_number', 'first_name', 'last_name', 'phone_number', 'email'],\n",
        "    }\n",
        "  return getColumnsValues(data_file, FreeText_columns_map)"
      ],
      "metadata": {
        "id": "MnYKirwKCK9W"
      },
      "execution_count": 4,
      "outputs": []
    },
    {
      "cell_type": "markdown",
      "source": [
        "### `getAllRows`\n",
        "\n",
        "This function must return a **dictionary** where:\n",
        "- **Dictionary keys** are the names of the tables in your database\n",
        "- **Dictionary values** are lists of rows, where:\n",
        "> - Each row is stored as a **dictionary**\n",
        "> - The **keys** in the row dictionary are the column names\n",
        "> - The **values** in the row dictionary are the values, for that row, for the corresponding columns.\n",
        "\n",
        "So your output will be formatted like:\n",
        "```\n",
        "{\n",
        "  'table 1' : [\n",
        "    # Table 1 row 1\n",
        "    { 'col 1': VALUE, 'col 2': VALUE, ... },\n",
        "    # Table 1 row 2\n",
        "    { 'col 1': VALUE, 'col 2': VALUE, ... },\n",
        "    etc\n",
        "  ],\n",
        "\n",
        "  'table 2' : [\n",
        "    # Table 2 row 1\n",
        "    { 'other col 1': VALUE, ... },\n",
        "    etc\n",
        "  ],\n",
        "\n",
        "  etc.\n",
        "}\n",
        "```"
      ],
      "metadata": {
        "id": "Pc7e80QC0cWw"
      }
    },
    {
      "cell_type": "code",
      "source": [
        "def getAllRows(data_file):\n",
        "  '''this fucntion return a dictionary with all tables values. like this:\n",
        "    dict= {table1:[{column1: row1_value, column2: row1_value},\n",
        "                {column1: row2_value, column2: row2_value}], ...}'''\n",
        "\n",
        "  result = {}\n",
        "  #get a list of tables in the database\n",
        "  tables = executeQuery(data_file, \"SELECT name FROM sqlite_master WHERE type='table'\")\n",
        "\n",
        "  #go through each table and get its data\n",
        "  for table in tables:\n",
        "    #get table name\n",
        "    table_name = table[0]\n",
        "    #get all rows from the current table\n",
        "    rows = executeQuery(data_file, f\"SELECT * FROM {table_name}\")\n",
        "    #get column names\n",
        "\n",
        "    columns = getColumnsName(data_file, table_name)\n",
        "\n",
        "    #store row values in a dictionary then store the deictionaries in a list(table_data)\n",
        "    table_data = []\n",
        "    for row in rows:\n",
        "      row_dict = {}\n",
        "      for i in range(len(columns)):\n",
        "        row_dict[columns[i]] = row[i]\n",
        "      table_data.append(row_dict)\n",
        "\n",
        "    #add table_data to the dictionary\n",
        "    result[table_name] = table_data\n",
        "\n",
        "  return result"
      ],
      "metadata": {
        "id": "mxOsMfpc0_F3"
      },
      "execution_count": 5,
      "outputs": []
    },
    {
      "cell_type": "markdown",
      "source": [
        "---\n",
        "## No automated testing applied\n",
        "\n",
        "Methods in this section will **NOT** be subject to automated testing.\n",
        "\n",
        "### **The specifications (input, and output) of these methods MAY be changed but the functions must be clearly identifiable in your code.**\n",
        "\n",
        "### **Definition stubs for these functions are not provided, as their implementation will be up to you.**"
      ],
      "metadata": {
        "id": "uZqc-dCB1wH6"
      }
    },
    {
      "cell_type": "markdown",
      "source": [
        "### `addRow`\n",
        "\n",
        "This function must:\n",
        "\n",
        "- Take as **input** a new row to be inserted into one of your database tables. _Hint: you may need additional inputs, e.g. to specify which table to insert into._\n",
        "- Implement **an SQL INSERT operation** to add the new row to the specified database table."
      ],
      "metadata": {
        "id": "hMfEt30s9MOn"
      }
    },
    {
      "cell_type": "code",
      "source": [
        "def addRow(data_file, table_name, row_values):\n",
        "  '''this function takes  a table name and row values to add it into the table\n",
        "  in the data file'''\n",
        "\n",
        "  #create a string for the columns names\n",
        "  columns = \",\".join(row_values.keys())\n",
        "  #create a placeholders for the inserted values\n",
        "  placeholders = \",\".join(\"?\" for cell in row_values)\n",
        "  #set up the query\n",
        "  query = f'INSERT INTO {table_name} ({columns}) VALUES ({placeholders})'\n",
        "\n",
        "  #execute the query, using list(row_values.values()) to keep the values datatype\n",
        "  executeQuery(data_file, query, list(row_values.values()))"
      ],
      "metadata": {
        "id": "szoDyemcEHIv"
      },
      "execution_count": 6,
      "outputs": []
    },
    {
      "cell_type": "markdown",
      "source": [
        "####userAddRow\n",
        "this function is used to take the user input for the new row. it make sure that there will be no duplicates (using helper functions), and make sure that non-null columns are not null. then adds the result into the table using addRow()"
      ],
      "metadata": {
        "id": "hUHg5e5MWgNj"
      }
    },
    {
      "cell_type": "code",
      "source": [
        "def userAddRow(data_file, table_name):\n",
        "  '''take user input for row values and add it using addRow'''\n",
        "  result = {}\n",
        "\n",
        "  #get columns info\n",
        "  columns = executeQuery(data_file, f\"PRAGMA table_info({table_name})\")\n",
        "  pk_columns = [column for column in columns if column[5] > 0]\n",
        "\n",
        "  #ask the user to enter primary key and check for duplicates\n",
        "  while True:\n",
        "    pk_values = inputColumnValues(pk_columns)\n",
        "    where_clause = \" AND \".join([f\"{pk[1]} = ?\" for pk in pk_columns])\n",
        "    count = executeQuery(data_file, f\"SELECT COUNT(*) FROM {table_name} WHERE {where_clause}\", tuple(pk_values.values()))[0][0]\n",
        "    if count == 0:\n",
        "      break\n",
        "    else:\n",
        "      print(f\"Duplicate primary key: {pk_values}\")\n",
        "  result.update(pk_values)\n",
        "\n",
        "  #ask the user to enter other columns\n",
        "  result.update(inputNonPK(columns))\n",
        "\n",
        "  addRow(data_file, table_name, result)"
      ],
      "metadata": {
        "id": "XDY7z4NBWcz6"
      },
      "execution_count": 7,
      "outputs": []
    },
    {
      "cell_type": "markdown",
      "source": [
        "### `getRows`\n",
        "\n",
        "This function is intended to retrieve rows from a table in your database.\n",
        "\n",
        "### You are free to implement this in one of two ways:\n",
        "\n",
        "### **Option 1:** Individual functions\n",
        "To retrieve rows from **each individual** table in your database. **Please name these functions like `getRowsTable1`, `getRowsTable2`, etc (though you can change `Table1` to the actual name of your table).**\n",
        "\n",
        "### **Option 2:** Main `getRows` function\n",
        "Single function to retrieve rows from **any** table in your database. _Hint: To go this route you may wish to implement table-specific functions and then call them from the main `getRows`._\n",
        "\n",
        "**NOTE** this will require having an additional input to `getRows` to specify the table to retrieve data from.\n",
        "\n",
        "### Specifications\n",
        "- Take as **input** some type of search criterion (e.g., a row ID, column value, etc). (If using the shared `getRows` approach, you will need the name of the database table to get rows from as well.) _Hint: as above you may need additional inputs to help specify your search criterion._\n",
        "- Implement **an SQL SELECT operation** to retrieve matching rows from the relevant database table.\n",
        "- Return as **output a list of dictionaries**, where each dictionary corresponds to a data row, where the keys are column names and values are corresponding column values."
      ],
      "metadata": {
        "id": "-417daQOfWfE"
      }
    },
    {
      "cell_type": "code",
      "source": [
        "def getRows(data_file, table_name, criteriaValues):\n",
        "  '''this function returns rows from a specified table based on the provided criteria.\n",
        "  Returns a list of dictionaries, where each dictionary represents a row'''\n",
        "  #define the base SELECT query\n",
        "  query = f\"SELECT * FROM {table_name}\"\n",
        "\n",
        "  #add criteriaValues to criteria\n",
        "  criteria = []\n",
        "  for key, value in criteriaValues.items():\n",
        "    if value is not None:\n",
        "      criteria.append(f\"{key} = '{value}'\")\n",
        "\n",
        "  #append criteria to the query if they are provided\n",
        "  if criteria:\n",
        "    query += ' WHERE ' + ' AND '.join(criteria)\n",
        "\n",
        "  #call the executeQuery function to execute the query and return the result\n",
        "  return executeQuery(data_file, query)"
      ],
      "metadata": {
        "id": "xUc6xyXOD0Fs"
      },
      "execution_count": 8,
      "outputs": []
    },
    {
      "cell_type": "markdown",
      "source": [
        "####userGetRows()\n",
        "this function asks the user to enter criteria to return a table with rows that fits the criteria using getRows()."
      ],
      "metadata": {
        "id": "YwruIQdiXaLd"
      }
    },
    {
      "cell_type": "code",
      "source": [
        "def userGetRows(data_file, table):\n",
        "  '''ask the user for criteria to retrieve rows from a table'''\n",
        "  #get columns info\n",
        "  columns = executeQuery(data_file, f\"PRAGMA table_info({table})\")\n",
        "  #ask the user to enter the criteria (weather primary key or not)\n",
        "  criteria = inputCriteriaValues(columns)\n",
        "  #use helper function to getRows according to criteria\n",
        "  result = getRows(data_file, table, criteria)\n",
        "  if result:\n",
        "    return result\n",
        "  else:\n",
        "    print('No rows found')"
      ],
      "metadata": {
        "id": "Hyg6ZscxXSCT"
      },
      "execution_count": 9,
      "outputs": []
    },
    {
      "cell_type": "markdown",
      "source": [
        "---\n",
        "---\n",
        "# **Section 2: Your implementation**\n",
        "\n",
        "Use this space to add your project implementation.\n",
        "\n",
        "**NOTE: You can use this space as you see fit; you can use multiple code blocks, add text blocks in between, etc.**"
      ],
      "metadata": {
        "id": "yBl47yvvh14b"
      }
    },
    {
      "cell_type": "markdown",
      "source": [
        "##Big functions"
      ],
      "metadata": {
        "id": "N3Q1kz2_aNyg"
      }
    },
    {
      "cell_type": "markdown",
      "source": [
        "###delete rows\n",
        "These two functions delete some rows from a table according to a criteria.\n",
        "\n",
        "userDeleteRows() function asks the user about the criteria (using a helper function), then pass it to deleteRows() which creates and executes an sql query to delete any row that fits the criteria."
      ],
      "metadata": {
        "id": "6G-SvPhSWZa9"
      }
    },
    {
      "cell_type": "code",
      "source": [
        "def userDeleteRows(data_file, table_name):\n",
        "  '''ask the user for criteria to delete rows from a table'''\n",
        "  #get columns info\n",
        "  columns = executeQuery(data_file, f\"PRAGMA table_info({table_name})\")\n",
        "  #ask the user to enter the criteria (weather primary key or not)\n",
        "  criteria = inputCriteriaValues(columns)\n",
        "  deleteRows(data_file, table_name, criteria)\n",
        "  return list(criteria.keys())"
      ],
      "metadata": {
        "id": "IqBiDS5UYJXt"
      },
      "execution_count": 10,
      "outputs": []
    },
    {
      "cell_type": "code",
      "source": [
        "def deleteRows(data_file, table_name, criteria):\n",
        "  '''this function delete rows from a specified table based on the provided criteria'''\n",
        "  #define the base query\n",
        "  query = f\"DELETE FROM {table_name}\"\n",
        "  #initialize placeholders and store criteria placeholders then add it to the query\n",
        "  placeholders = []\n",
        "  for key, value in criteria.items():\n",
        "      placeholders.append(f\"{key} = ?\")\n",
        "  query += \" WHERE \" + \" AND \".join(placeholders)\n",
        "\n",
        "  #call the executeQuery function to execute the query\n",
        "  executeQuery(data_file, query, tuple(criteria.values()))"
      ],
      "metadata": {
        "id": "vlT4AOxIYIZ_"
      },
      "execution_count": 11,
      "outputs": []
    },
    {
      "cell_type": "markdown",
      "source": [
        "###update rows\n",
        "These two functions update a row from a table.\n",
        "userUpdateRow() function asks the user about the primary key (using a helper function) of the targeted row. Then pass the primary key to updateRow() which creates and executes an sql query to update the row."
      ],
      "metadata": {
        "id": "3JilFPfEYNNE"
      }
    },
    {
      "cell_type": "code",
      "source": [
        "def userUpdateRow(data_file, table_name):\n",
        "  '''ask the user to enter the primary key and new row values to update'''\n",
        "\n",
        "  #get columneRow(data_file, table_name):\n",
        "  '''ask the user to enter the primary key and new row values to update'''\n",
        "\n",
        "  #get columns info\n",
        "  columns = executeQuery(data_file, f\"PRAGMA table_info({table_name})\")\n",
        "  pk_columns = [column for column in columns if column[5] > 0]\n",
        "\n",
        "  #ask the user to enter primary key and check if primary key exists\n",
        "  while True:\n",
        "    pk_values = inputColumnValues(pk_columns)\n",
        "    where_clause = \" AND \".join([f\"{pk[1]} = ?\" for pk in pk_columns])\n",
        "    count = executeQuery(data_file, f\"SELECT COUNT(*) FROM {table_name} WHERE {where_clause}\", tuple(pk_values.values()))[0][0]\n",
        "    if count == 0:\n",
        "      print(f\"primary key not found: {pk_values}\")\n",
        "    else:\n",
        "\n",
        "      break\n",
        "\n",
        "  #ask user to enter new values for non primary key columns\n",
        "  new_values = inputNonPK(columns)\n",
        "\n",
        "  #update row\n",
        "  updateRow(data_file, table_name, pk_values, new_values)"
      ],
      "metadata": {
        "id": "7hFkcJU8YPne"
      },
      "execution_count": 12,
      "outputs": []
    },
    {
      "cell_type": "code",
      "source": [
        "def updateRow(data_file, table_name, primary_key, new_values):\n",
        "  '''This function updates a row in the specified table based on the primary key\n",
        "  - primary_key and new_values are both dictionaries, where the key is column name'''\n",
        "  #create the SET and WHERE placeholders clauses\n",
        "  set_clause = \", \".join(f\"{column} = ?\" for column in new_values.keys())\n",
        "  where_clause = \" AND \".join(f\"{column} = ?\" for column in primary_key.keys())\n",
        "  #create the query and execute it with the new values\n",
        "  query = f'UPDATE {table_name} SET {set_clause} WHERE {where_clause}'\n",
        "  executeQuery(data_file, query, tuple(new_values.values()) + tuple(primary_key.values()))"
      ],
      "metadata": {
        "id": "2eyJ017sYR_A"
      },
      "execution_count": 13,
      "outputs": []
    },
    {
      "cell_type": "markdown",
      "source": [
        "###Tickets\n",
        "These two functions are combining passengerInfo, FlightInfo, and PassengerFlight tables to return a new table *Ticket*. Which makes it easy to access flight and passenger informations.\n",
        "Conedtions can be specified to get the tickets of a certain passenger, flight, or a date.\n",
        "\n",
        "inputPassengerFlightInfo() takes user input for any criteria about passengers or flights.\n",
        "\n",
        "Then call passengerFlightInfo() to create and execute the query."
      ],
      "metadata": {
        "id": "Vk-0v8R6HfjA"
      }
    },
    {
      "cell_type": "code",
      "source": [
        "def inputPassengerFlightInfo(data_file):\n",
        "  '''Ask user and takes user input for the criteria of passenger flight table'''\n",
        "  passenger_id_number = input(\"enter a passenger_id_number, or 'all' for all passengers: \")\n",
        "  if passenger_id_number.lower() == 'all':\n",
        "    passenger_id_number = None\n",
        "  flight_number = input(\"enter a flight_number, or 'all' for all flights: \")\n",
        "  if flight_number.lower() == 'all':\n",
        "    flight_number = None\n",
        "  flight_date = input(\"enter a flight_date, or 'all' for all dates: \")\n",
        "  if  flight_date.lower() == 'all':\n",
        "    flight_date = None\n",
        "  return passengerFlightInfo(data_file, passenger_id_number, flight_number, flight_date)"
      ],
      "metadata": {
        "id": "OAFC4QAsHrsj"
      },
      "execution_count": 14,
      "outputs": []
    },
    {
      "cell_type": "code",
      "source": [
        "def passengerFlightInfo(data_file, passenger_id_number=None, flight_number=None, flight_date=None):\n",
        "  '''creates and executes a sql query to return passengerFlight but with more of passengerInfo and flightInfo columns(more like a ticket)\n",
        "  it can be used to return info for a certain passenger_id_number, flight_number, or departure_date'''\n",
        "  query = '''\n",
        "  SELECT p.id_number, p.first_name, p.last_name, pf.seat_number, f.flight_number, f.departure_date, f.departure_time\n",
        "  FROM PassengerInfo p\n",
        "  JOIN PassengerFlight pf ON p.id_number = pf.passenger_id_number\n",
        "  JOIN FlightInfo f ON pf.flight_number = f.flight_number AND pf.flight_date = f.departure_date\n",
        "  '''\n",
        "  criteria = []\n",
        "  if passenger_id_number is not None:\n",
        "    criteria.append(f\"p.id_number = '{passenger_id_number}'\")\n",
        "  if flight_number is not None:\n",
        "    criteria.append(f\"pf.flight_number = '{flight_number}'\")\n",
        "  if flight_date is not None:\n",
        "    criteria.append(f\"pf.flight_date = '{flight_date}'\")\n",
        "\n",
        "  if criteria:\n",
        "    query += f'WHERE ' + ' AND '.join(criteria)\n",
        "  return executeQuery(data_file, query)"
      ],
      "metadata": {
        "id": "NSK6JxVhEqDP"
      },
      "execution_count": 15,
      "outputs": []
    },
    {
      "cell_type": "markdown",
      "source": [
        "###Luggage Weight\n",
        "these functions are used to find passengers with overwieght luggages.\n",
        "\n",
        "inputWeightLimit() takes user input for any criteria about luggage, passengers, flights.\n",
        "Then call weightLimit() to create and execute the query.\n",
        "by setting a wieght limit = 0, this function can be useful to see the passengers luggages info.\n"
      ],
      "metadata": {
        "id": "LY6FtjwtF0oy"
      }
    },
    {
      "cell_type": "code",
      "source": [
        "def inputWeightLimit(data_file):\n",
        "  '''Asks and takes user input and execute weightLimit function'''\n",
        "  while True:\n",
        "    limit = input('enter max limit: ')\n",
        "    try:\n",
        "      limit = int(limit)\n",
        "      break\n",
        "    except:\n",
        "      print('Invalid input')\n",
        "  flight_number = input(\"enter a flight_number, or 'all' for all flights: \")\n",
        "  flight_date = input(\"enter a flight_date, or 'all' for all dates: \")\n",
        "  return weightLimit(data_file, limit, flight_number, flight_date)"
      ],
      "metadata": {
        "id": "lsLWnb7BF-D9"
      },
      "execution_count": 16,
      "outputs": []
    },
    {
      "cell_type": "code",
      "source": [
        "def weightLimit(data_file, limit, flight_number, flight_date):\n",
        "  '''This function creates and executes a sql query to get passengerInfo with luggage\n",
        "  over a certain weight. A certain flight_number/flight_date can be specified'''\n",
        "  query = f'''\n",
        "  SELECT l.luggage_tag_id, l.weight_kg, p.id_number, p.first_name, p.last_name, p.phone_number, p.email , pf.flight_number, pf.flight_date\n",
        "  FROM PassengerInfo p\n",
        "  JOIN Luggage l ON p.id_number = l.passenger_id_number\n",
        "  JOIN PassengerFlight pf ON p.id_number = pf.passenger_id_number AND p.id_number IN (\n",
        "  SELECT passenger_id_number FROM Luggage\n",
        "  WHERE weight_kg > {limit}'''\n",
        "\n",
        "  #add to query according to the parameters(users input)\n",
        "  if flight_number.lower() != 'all':\n",
        "    query += f\" AND pf.flight_number = '{flight_number}'\"\n",
        "  if  flight_date.lower() != 'all':\n",
        "    query += f\" AND pf.flight_date = '{flight_date}'\"\n",
        "  query += \" )\"\n",
        "\n",
        "  result = executeQuery(data_file, query)\n",
        "  if result:\n",
        "    return result\n",
        "  else:\n",
        "    print('no luggage found')"
      ],
      "metadata": {
        "id": "EYoBvNNbHdmU"
      },
      "execution_count": 17,
      "outputs": []
    },
    {
      "cell_type": "markdown",
      "source": [
        "###Aggregate - statistical Analysis\n",
        "\n",
        "These three functions are used to get some insights from any table of data_file.\n",
        "inputAggregateQuery() takes user input for the grouping column/s, and weather to count or go get the sum of the aggregate column.\n",
        "\n",
        "Then call getAggregateQuery() to create and execute the query.\n",
        "\n",
        "displayAggregatePlot() calls inputAggregateQuery() which consequently calls getAggregateQuery() to get the result of the aggregate then display it in a pandas plot.\n"
      ],
      "metadata": {
        "id": "M8wCGlPvJA7M"
      }
    },
    {
      "cell_type": "code",
      "source": [
        "def displayAggregatePlot(data_file, grouping_columns, arregate_column, operator, table):\n",
        "  '''this function is used to display aggregation'''\n",
        "  #get the result from the aggregate query\n",
        "  result = getAggregateQuery(data_file, grouping_columns, arregate_column, operator, table)\n",
        "  #convert the result to a pandas df\n",
        "  df = pd.DataFrame(result, columns=grouping_columns + [f'{operator}({arregate_column})'])\n",
        "  #plot\n",
        "  plt.figure(figsize=(10, 6))\n",
        "  plt.bar(df[grouping_columns[0]], df[f'{operator}({arregate_column})'])\n",
        "  plt.xlabel(grouping_columns[0])\n",
        "  plt.ylabel(f'{operator}({arregate_column})')\n",
        "  plt.title(f'{operator}({arregate_column}) per {grouping_columns[0]}')\n",
        "  plt.show()"
      ],
      "metadata": {
        "id": "vgaRleapQZKN"
      },
      "execution_count": 18,
      "outputs": []
    },
    {
      "cell_type": "code",
      "source": [
        "def inputAggregateQuery(data_file, table):\n",
        "  '''takes user input for displayAggregatePlot and execute displayAggregatePlot'''\n",
        "  available_columns = getColumnsName(data_file, table)\n",
        "  grouping_columns = []\n",
        "  print('Select column: ', available_columns)\n",
        "  while True:\n",
        "    grouping_column = input(\"please enter grouping columns or 'stop' to finish grouping columns: \").strip().lower()\n",
        "    if grouping_column == 'stop':\n",
        "      break\n",
        "    elif grouping_column in available_columns:\n",
        "      grouping_columns.append(grouping_column)\n",
        "    else:\n",
        "      print('invalid column')\n",
        "\n",
        "  while True:\n",
        "    arregate_column = input('enter aggregate column: ').strip().lower()\n",
        "    if arregate_column in available_columns:\n",
        "      break\n",
        "    print('invalid column')\n",
        "\n",
        "  while True:\n",
        "    operator = input('enter which operator; sum or count: ').strip().lower()\n",
        "    if operator == 'count' or operator == 'sum':\n",
        "      break\n",
        "    print('invalid input')\n",
        "\n",
        "  displayAggregatePlot(data_file, grouping_columns, arregate_column, operator, table)"
      ],
      "metadata": {
        "id": "NbaGZs1jJALO"
      },
      "execution_count": 19,
      "outputs": []
    },
    {
      "cell_type": "code",
      "source": [
        "def getAggregateQuery(data_file, grouping_columns, arregate_column, operator, table):\n",
        "  '''executes a query to return the total weight of luggage for each flight / number of passenger per flight / total weight each for passenger/ number of flights per day etc...'''\n",
        "  query = f'''\n",
        "  SELECT {', '.join(grouping_columns)}, {operator}({arregate_column}) FROM {table}\n",
        "  GROUP BY {', '.join(grouping_columns)}\n",
        "  '''\n",
        "  return executeQuery(data_file, query)"
      ],
      "metadata": {
        "id": "Xso7rKJMQau0"
      },
      "execution_count": 20,
      "outputs": []
    },
    {
      "cell_type": "markdown",
      "source": [
        "##Helper functions"
      ],
      "metadata": {
        "id": "KHf9OiRpaTk9"
      }
    },
    {
      "cell_type": "markdown",
      "source": [
        "### execute query - helper function\n",
        "this function is used to execute most of the program sql queries"
      ],
      "metadata": {
        "id": "hDOITTH3EUMf"
      }
    },
    {
      "cell_type": "code",
      "source": [
        "def executeQuery(data_file, query, values=None):\n",
        "  '''this a helper function to executes a sql query'''\n",
        "  result= None\n",
        "  #connect to the sqlite database specified by data_file\n",
        "  conn = sqlite3.connect(data_file)\n",
        "  #avoid accedents\n",
        "  conn.execute(\"PRAGMA foreign_keys = ON\")\n",
        "  #execute the query and fetch all the results\n",
        "  try:\n",
        "    if values:\n",
        "      result = conn.execute(query, values).fetchall()\n",
        "      conn.commit()\n",
        "    else:\n",
        "      result = conn.execute(query).fetchall()\n",
        "  except sqlite3.Error as e:\n",
        "    print(f\"Error executing query: {e}\")\n",
        "\n",
        "  #close the database connection\n",
        "  finally:\n",
        "    conn.close()\n",
        "  #return the results obtained from the query\n",
        "  return result"
      ],
      "metadata": {
        "id": "U6bXyAXqEYZP"
      },
      "execution_count": 21,
      "outputs": []
    },
    {
      "cell_type": "markdown",
      "source": [
        "###getColumnsName - helper function\n",
        "this function is used to get the columns names only"
      ],
      "metadata": {
        "id": "PHrHW7-GWGW5"
      }
    },
    {
      "cell_type": "code",
      "source": [
        "def getColumnsName(data_file, table_name):\n",
        "  '''this function takes  data_file and a table name and returns a list of column names of the table'''\n",
        "  columns = [column[1] for column in executeQuery(data_file, f\"PRAGMA table_info({table_name})\")]\n",
        "  return columns"
      ],
      "metadata": {
        "id": "deo3OQEEFqzv"
      },
      "execution_count": 22,
      "outputs": []
    },
    {
      "cell_type": "markdown",
      "source": [
        "###printTable\n",
        "this function takes table data (which could be data file, a dictionar, or a list of tuples), then display it as a table."
      ],
      "metadata": {
        "id": "qQbNPPKGEcMy"
      }
    },
    {
      "cell_type": "code",
      "source": [
        "def printTable(data, table_name=None, column_names=None):\n",
        "  '''display table in a fancier format using sql in html'''\n",
        "  if table_name:\n",
        "    #if table name is given, fetch the table data from the file and convert it to df (data is assumed to be data file)\n",
        "    conn = sqlite3.connect(data)\n",
        "    query = f'SELECT * FROM {table_name}'\n",
        "    df = pd.read_sql_query(query, conn)\n",
        "    conn.close()\n",
        "  elif column_names:\n",
        "    # if the table name is not given, but the column_names is given, the data is assumed to be a list of tuples\n",
        "    df = pd.DataFrame(data, columns=column_names)\n",
        "  else:\n",
        "    #if table name is not given nor the column_names, the data variable is assumeb to be a dcitionary of column, convert it to df\n",
        "    df = pd.DataFrame(data)\n",
        "\n",
        "  #display table\n",
        "  html_table = tabulate(df, headers='keys', tablefmt='html', showindex=False)\n",
        "  display(HTML(html_table))\n"
      ],
      "metadata": {
        "id": "4VI7Mg1dEem_"
      },
      "execution_count": 23,
      "outputs": []
    },
    {
      "cell_type": "markdown",
      "source": [
        "###input functions"
      ],
      "metadata": {
        "id": "vq0QtT4ZEjKv"
      }
    },
    {
      "cell_type": "code",
      "source": [
        "def checkColumnInput(column, input):\n",
        "  '''check validity of user input for column value type'''\n",
        "  if column[3] == 1 and input == \"\":\n",
        "    raise ValueError(f\"{column[1]} cannot be null\")\n",
        "  if column[2] == \"INTEGER\" and input != \"\":\n",
        "    return int(input)\n",
        "  elif column[2] == \"REAL\" and input != \"\":\n",
        "    return float(input)\n",
        "  else:\n",
        "    return input"
      ],
      "metadata": {
        "id": "mM6pXcBLEoe0"
      },
      "execution_count": 24,
      "outputs": []
    },
    {
      "cell_type": "markdown",
      "source": [
        "The next three functions are used to ask the user for an input for columns values. However, they are similar but the differ in the input type.\n",
        "\n",
        "**inputCriteriaValues()** asks the user weather to include this column in the result. it allows for non-null columns to be null.\n",
        "\n",
        "**inputColumnValues()** ask the user for simply the value of all columns\n",
        "\n",
        "**inputNonPK()** ask the user for input of not primary key columns\n"
      ],
      "metadata": {
        "id": "sQo_xgV-a6hP"
      }
    },
    {
      "cell_type": "code",
      "source": [
        "def inputCriteriaValues(columns):\n",
        "  '''get user input for criteria values'''\n",
        "  criteria = {}\n",
        "  for column in columns:\n",
        "    while True:\n",
        "      try:\n",
        "        data = input(f\"Enter the value for {column[1]}, or 'none' to remove from criteria: \")\n",
        "        if data.lower() == \"none\":\n",
        "          break\n",
        "        data = checkColumnInput(column, data)\n",
        "        criteria[column[1]] = data\n",
        "        break\n",
        "      except ValueError as e:\n",
        "        print(e)\n",
        "  return criteria"
      ],
      "metadata": {
        "id": "l_zgPGx6Elzx"
      },
      "execution_count": 25,
      "outputs": []
    },
    {
      "cell_type": "code",
      "source": [
        "def inputColumnValues(columns):\n",
        "  '''Takes columns lists and ask the user to input for each column then check with check_column_value'''\n",
        "  result = {}\n",
        "  for column in columns:\n",
        "    while True:\n",
        "      try:\n",
        "        data = input(f\"Enter the value for {column[1]}:\")\n",
        "        checkColumnInput(column, data)\n",
        "        result[column[1]] = data\n",
        "        break\n",
        "      except ValueError as e:\n",
        "        print(e)\n",
        "\n",
        "  return result"
      ],
      "metadata": {
        "id": "uuqXLkNQV6lb"
      },
      "execution_count": 26,
      "outputs": []
    },
    {
      "cell_type": "code",
      "source": [
        "def inputNonPK(columns):\n",
        "  '''get user input for non-primary-key column values only'''\n",
        "  result = {}\n",
        "  for column in columns:\n",
        "    if column[5] == 0:\n",
        "      while True:\n",
        "        try:\n",
        "          data = input(f\"Enter the value for {column[1]}:\")\n",
        "          checkColumnInput(column, data)\n",
        "          result[column[1]] = data\n",
        "          break\n",
        "        except ValueError as e:\n",
        "          print(e)\n",
        "\n",
        "  return result"
      ],
      "metadata": {
        "id": "KzoVMsLPV8TQ"
      },
      "execution_count": 27,
      "outputs": []
    },
    {
      "cell_type": "markdown",
      "source": [
        "#User interface class\n",
        "this class implement a user interacted loop to handel user inputs and use the previous implmented functions to view and edit data file"
      ],
      "metadata": {
        "id": "Q3PLbLn-Sc2r"
      }
    },
    {
      "cell_type": "code",
      "source": [
        "class UserInterface:\n",
        "  def __init__(self, data_file):\n",
        "    self.data_file = data_file\n",
        "    #user select what data to display\n",
        "    self.is_running = True\n",
        "    self.selected_table = ''\n",
        "    print('>>> USER GENERATED REPORT <<<')\n",
        "    self.mainLoop()\n",
        "\n",
        "\n",
        "  def mainLoop(self):\n",
        "    '''main loop'''\n",
        "    while self.is_running:\n",
        "      print('\\nEnter the option number:')\n",
        "      choice = input('1. view or modify a table\\n2. plot\\n3. other\\nor anything else to stop\\n').strip()\n",
        "      if choice == '1':\n",
        "        self.tableOperation()\n",
        "      elif choice == '2':\n",
        "        self.selectTable()\n",
        "        inputAggregateQuery(self.data_file, self.selected_table)\n",
        "      elif choice == '3':\n",
        "        self.otherOperation()\n",
        "      else:\n",
        "        self.is_running = False\n",
        "\n",
        "  def tableOperation(self):\n",
        "    self.selectTable()\n",
        "    print('\\nEnter the option number:')\n",
        "    choice = input('1. view whole table\\n2. view a table by criteria\\n3. delete rows by criteria\\n4. add row\\n5. update row\\nor anything else to stop\\n').strip()\n",
        "    '''operate according to user input'''\n",
        "    if choice == '1':\n",
        "      printTable(self.data_file, self.selected_table)\n",
        "    elif choice == '2':\n",
        "      printTable(data=userGetRows(self.data_file, self.selected_table), column_names=getColumnsName(self.data_file, self.selected_table))\n",
        "    elif choice == '3':\n",
        "      userDeleteRows(self.data_file, self.selected_table)\n",
        "    elif choice == '4':\n",
        "      userAddRow(self.data_file, self.selected_table)\n",
        "    elif choice == '5':\n",
        "      userUpdateRow(self.data_file, self.selected_table)\n",
        "    else:\n",
        "      self.is_running = False\n",
        "\n",
        "  def otherOperation(self):\n",
        "    selected_columns = None\n",
        "    print('\\nEnter the option number:')\n",
        "    choice = input('1. view categorical columns\\n2. view numeric columns\\n3. view free-text columns\\n4. view tickets (and select criteria)\\n5. view luggage wieght (and select criteria)\\nor anything else to stop\\n').strip()\n",
        "    if choice == '1':\n",
        "      selected_columns = getCategoricalColumns(self.data_file)\n",
        "    elif choice == '2':\n",
        "      selected_columns = getNumericColumns(self.data_file)\n",
        "    elif choice == '3':\n",
        "      selected_columns = getFreeTextColumns(self.data_file)\n",
        "    elif choice == '4':\n",
        "      printTable(inputPassengerFlightInfo(self.data_file), column_names=['passenger_id_number', 'first_name', 'last_name', 'seat_number',\n",
        "                                      'flight_number', 'departure_date', 'departure_time'])\n",
        "    elif choice == '5':\n",
        "      printTable(inputWeightLimit(data_file),\n",
        "                column_names=['luggage_tag_id', 'weight_kg', 'passenger_id_number',\n",
        "                              'first_name', 'last_name', 'phone_number', 'email', 'flight_number', 'flight_date'])\n",
        "    else:\n",
        "      self.is_running = False\n",
        "    if selected_columns:\n",
        "      for val, key in selected_columns.items():\n",
        "        printTable(data={val: key})\n",
        "\n",
        "\n",
        "  def selectTable(self):\n",
        "    '''ask the user to select a table'''\n",
        "    while True:\n",
        "      print(\"\\nSelect Table number:\")\n",
        "      choice = input(\"1. Route\\n2. FlightInfo\\n3. PassengerInfo\\n4. PassengerFlight\\n5. Luggage\\n\")\n",
        "      tables = {'1': 'Route', '2': 'FlightInfo', '3': 'PassengerInfo', '4': 'PassengerFlight', '5': 'Luggage'}\n",
        "      try:\n",
        "        self.selected_table = tables[choice]\n",
        "        return self.selected_table\n",
        "      except:\n",
        "        print('enter a valid table number')"
      ],
      "metadata": {
        "id": "-bCDvxynSe7d"
      },
      "execution_count": 28,
      "outputs": []
    },
    {
      "cell_type": "markdown",
      "source": [
        "---\n",
        "---\n",
        "# **Section 3: Summary report generation**"
      ],
      "metadata": {
        "id": "5zxNaXGB9mpN"
      }
    },
    {
      "cell_type": "markdown",
      "source": [
        "## Report header/footer **(DO NOT MODIFY)**\n",
        "This section defines the class `BaseSummaryReport` which includes pre-defined generation of header and footer information in the report.\n",
        "\n",
        "### **Do not modify the code in this section. Please execute this block and then edit the \"Report contents\" block below.**"
      ],
      "metadata": {
        "id": "FxShKSkZVqc4"
      }
    },
    {
      "cell_type": "code",
      "source": [
        "class BaseSummaryReport:\n",
        "  def printCustomContent(self):\n",
        "    return NotImplemented\n",
        "\n",
        "  def __init__(self, data_file):\n",
        "    self.data_file = data_file\n",
        "    self.printReportHeader()\n",
        "    self.printCustomContent()\n",
        "    self.printReportFooter()\n",
        "\n",
        "  def printReportHeader(self):\n",
        "    print('-'*80)\n",
        "    print('>>> SUMMARY REPORT <<<')\n",
        "    print()\n",
        "    print('Using data file:', self.data_file)\n",
        "    print()\n",
        "\n",
        "    print()\n",
        "    print('== TABLE METADATA== ')\n",
        "    print()\n",
        "\n",
        "    rows = getAllRows(self.data_file)\n",
        "    for (tbl_name, tbl) in sorted(rows.items()):\n",
        "      print('Table: {0}'.format(tbl_name))\n",
        "      print('No. rows: {0:,}'.format(len(tbl)))\n",
        "      print()\n",
        "      all_cols = set(tbl[0].keys())\n",
        "\n",
        "    print()\n",
        "    print('== COLUMN METADATA ==')\n",
        "    print()\n",
        "\n",
        "    numeric = getNumericColumns(self.data_file)\n",
        "    numeric = set(numeric.keys())\n",
        "    print('Numeric columns:', ', '.join(sorted(numeric)))\n",
        "\n",
        "    categorical = getCategoricalColumns(self.data_file)\n",
        "    categorical = set(categorical.keys())\n",
        "    print('Categorical columns:', ', '.join(sorted(categorical)))\n",
        "\n",
        "    free_text = getFreeTextColumns(self.data_file)\n",
        "    free_text = set(free_text.keys())\n",
        "    print('Free-text columns:', ', '.join(sorted(free_text)))\n",
        "\n",
        "    other = all_cols - numeric - categorical - free_text\n",
        "    print('Other columns:', ', '.join(sorted(other)))\n",
        "\n",
        "    print()\n",
        "    print()\n",
        "\n",
        "  def printReportFooter(self):\n",
        "    print('>>> END SUMMARY REPORT <<<')\n",
        "    print('-'*80)"
      ],
      "metadata": {
        "id": "eqPffUIcPSE0"
      },
      "execution_count": 29,
      "outputs": []
    },
    {
      "cell_type": "markdown",
      "source": [
        "---\n",
        "## Report content **(FOR YOU TO IMPLEMENT)**\n",
        "\n",
        "The `SummaryReport` class below extends the `BaseSummaryReport` class defined in the \"Report header/footer\" section.\n",
        "\n",
        "### **Your task:** Implement the `printCustomContent` function to do the following:\n",
        "\n",
        "1. For each **numerical** column, print (1) the name of the column; (2) the mean value; (3) the minimum and maximum values; and (4) the standard deviation.\n",
        "2. For each **categorical** column, print (1) the name of the column; (2) the possible categories; (3) the frequency of each category.\n",
        "3. For each **free text** column, print (1) the name of the column; (2) the shortest string it contains; and (3) the longest string it contains.\n",
        "4. Then include **any additional content you want**, based on what you want to show in your project. The more interesting, the better.\n",
        "\n",
        "**NOTE that the `SummaryReport` class includes a `self.data_file` variable which you can use to supply the `data_file` argument for the functions defined above.**"
      ],
      "metadata": {
        "id": "Kht_grRPWF_y"
      }
    },
    {
      "cell_type": "code",
      "source": [
        "class SummaryReport(BaseSummaryReport):\n",
        "  def printCustomContent(self):\n",
        "    self.print_numerical_stat(self.get_numeric_column_stats())\n",
        "    self.print_category_info(self.get_category_info())\n",
        "    self.print_free_text_info(self.get_freeText_info())\n",
        "    #ui = UserInterface(data_file)\n",
        "\n",
        "\n",
        "  def print_numerical_stat(self, numeric_stats):\n",
        "    '''this function is used to print the resulting dictionary of function\n",
        "    get_numeric_column_stats'''\n",
        "    print('>>> stats columns information <<<')\n",
        "    for col in numeric_stats:\n",
        "      print('-'*60)\n",
        "      print(f\"Column name: {col}\\n\")\n",
        "      print(f\"Mean value: {numeric_stats[col]['Mean value']:.2f}\\n\")\n",
        "      print(f\"Minimum value: {numeric_stats[col]['Minimum value']:.2f}\\n\")\n",
        "      print(f\"Maximum value: {numeric_stats[col]['Maximum value']:.2f}\\n\")\n",
        "      print(f\"Standard deviation: {numeric_stats[col]['Standard deviation']:.2f}\\n\")\n",
        "      print('-'*60)\n",
        "\n",
        "  def get_numeric_column_stats(self):\n",
        "    '''this function returns a dictionary with mean, min, max values of each numerical column'''\n",
        "    numeric = getNumericColumns(self.data_file)\n",
        "    stats = {}\n",
        "    for col, values in numeric.items():\n",
        "      stats[col] = {'Mean value': np.mean(values),\n",
        "                  'Minimum value': np.min(values), 'Maximum value': np.max(values),\n",
        "                  'Standard deviation': np.std(values)}\n",
        "    return stats\n",
        "\n",
        "  def print_category_info(self, category_into):\n",
        "    '''this function is used to print the resulting dictionary of function get_category_info'''\n",
        "    print('>>> Categorical columns information <<<')\n",
        "    for col, info in category_into.items():\n",
        "      print('-'*60)\n",
        "      print(f\"Column name: {col}\\n\")\n",
        "      print(\"Possible categories:\")\n",
        "      for category in info[\"possible_categories\"]:\n",
        "        print(f\"- {category}\")\n",
        "      print(\"\\nFrequency of each category:\")\n",
        "      for category, count in info[\"category_counts\"].items():\n",
        "        print(f\"- {category}: {count}\")\n",
        "      print('\\n'+'-'*60)\n",
        "\n",
        "  def get_category_info(self):\n",
        "    '''this function gets data_file categorical columns using\n",
        "    getCategoricalColumns function. then returns a dictionary with possible\n",
        "    categories, and the frequncy for each category for each categorical column'''\n",
        "    data = getCategoricalColumns(self.data_file)\n",
        "    category_info = {}\n",
        "    for col, values in data.items():\n",
        "      #count the frequency of each category\n",
        "      category_counts = collections.Counter(values) #u can use the COUNT(*) in sql query\n",
        "      category_info[col] = {\n",
        "        \"possible_categories\": list(category_counts.keys()),\n",
        "        \"category_counts\": dict(category_counts)}\n",
        "    return category_info\n",
        "\n",
        "\n",
        "  def print_free_text_info(self, freeText_info):\n",
        "    '''this function is used to print the resulting dictionary of function freeText_info'''\n",
        "    print('>>> Free text columns information <<<')\n",
        "    for col, info in freeText_info.items():\n",
        "      print('-' * 60)\n",
        "      print(f\"Column name: {col}\\n\")\n",
        "      #check the column contains data\n",
        "      if not info['Lengths']:\n",
        "        print(\"No data in the column.\\n\")\n",
        "      #if all lengths are equal\n",
        "      elif len(set(info['Lengths'])) == 1:\n",
        "        print(f\"All items have the same length: {info['Lengths'][0]}\\n\")\n",
        "      else:\n",
        "        if info['Shortest texts']:\n",
        "          print(f\"Shortest text(s): {', '.join(info['Shortest texts'])}\\n\")\n",
        "        if info['Longest texts']:\n",
        "          print(f\"Longest text(s): {', '.join(info['Longest texts'])}\\n\")\n",
        "      print('-' * 60)\n",
        "\n",
        "  def get_freeText_info(self):\n",
        "    '''this function takes a data_ files, gets its free-text columns using\n",
        "    getFreeTextColumns function. then returns a dictionary with logest and\n",
        "    shortest values, or the length of the text in case all values are the same\n",
        "    length, for each free-text column'''\n",
        "    free_text_columns = getFreeTextColumns(self.data_file)\n",
        "    free_text_info_dict = {}\n",
        "\n",
        "    for col, values in free_text_columns.items():\n",
        "      lengths = [len(text) for text in values]\n",
        "      min_length = min(lengths)\n",
        "      max_length = max(lengths)\n",
        "\n",
        "      #find all items with the shortest and longest lengths\n",
        "      shortest_texts = [text for text in values if len(text) == min_length]\n",
        "      longest_texts = [text for text in values if len(text) == max_length]\n",
        "      free_text_info_dict[col] = {'Lengths': lengths, 'Shortest texts': shortest_texts,\n",
        "        'Longest texts': longest_texts}\n",
        "    return free_text_info_dict"
      ],
      "metadata": {
        "id": "A2XvBuNzWMt7"
      },
      "execution_count": 30,
      "outputs": []
    },
    {
      "cell_type": "markdown",
      "source": [
        "---\n",
        "## Running the report **(FOR YOU TO EXECUTE)**\n",
        "\n",
        "The code block below generates the summary report using what you have defined in the \"Report content\" block above.\n",
        "\n",
        "**NOTE you will need to update `data_file` to refer to the correct data file for your implementation.**"
      ],
      "metadata": {
        "id": "rImcoZz1XTzk"
      }
    },
    {
      "cell_type": "code",
      "source": [
        "import numpy as np\n",
        "import sqlite3\n",
        "import pandas as pd\n",
        "import matplotlib.pyplot as plt\n",
        "import collections\n",
        "from tabulate import tabulate\n",
        "from IPython.display import display, HTML\n",
        "# CHANGE THE SETTING OF data_file TO POINT TO YOUR DATA\n",
        "data_file = '230190159.db'\n",
        "\n",
        "# Execute the report generation and print the output\n",
        "report = SummaryReport(data_file)\n",
        "ui = UserInterface(data_file)"
      ],
      "metadata": {
        "id": "jtLLKWAoXmyg",
        "colab": {
          "base_uri": "https://localhost:8080/"
        },
        "outputId": "f05a96bb-3be6-4359-eb21-41a671d5f05d"
      },
      "execution_count": 31,
      "outputs": [
        {
          "name": "stdout",
          "output_type": "stream",
          "text": [
            "--------------------------------------------------------------------------------\n",
            ">>> SUMMARY REPORT <<<\n",
            "\n",
            "Using data file: 230190159.db\n",
            "\n",
            "\n",
            "== TABLE METADATA== \n",
            "\n",
            "Table: FlightInfo\n",
            "No. rows: 45\n",
            "\n",
            "Table: Luggage\n",
            "No. rows: 105\n",
            "\n",
            "Table: PassengerFlight\n",
            "No. rows: 93\n",
            "\n",
            "Table: PassengerInfo\n",
            "No. rows: 44\n",
            "\n",
            "Table: Route\n",
            "No. rows: 35\n",
            "\n",
            "\n",
            "== COLUMN METADATA ==\n",
            "\n",
            "Numeric columns: luggage_tag_id, weight_kg\n",
            "Categorical columns: airline, arrival_airport_code, arrival_gate_number, departure_airport_code, departure_gate_number, flight_number, flight_status, luggage_status, seat_number\n",
            "Free-text columns: email, first_name, id_number, last_name, phone_number\n",
            "Other columns: \n",
            "\n",
            "\n",
            ">>> stats columns information <<<\n",
            "------------------------------------------------------------\n",
            "Column name: luggage_tag_id\n",
            "\n",
            "Mean value: 2000083.22\n",
            "\n",
            "Minimum value: 2000001.00\n",
            "\n",
            "Maximum value: 2000162.00\n",
            "\n",
            "Standard deviation: 53.61\n",
            "\n",
            "------------------------------------------------------------\n",
            "------------------------------------------------------------\n",
            "Column name: weight_kg\n",
            "\n",
            "Mean value: 23.61\n",
            "\n",
            "Minimum value: 3.87\n",
            "\n",
            "Maximum value: 50.15\n",
            "\n",
            "Standard deviation: 11.76\n",
            "\n",
            "------------------------------------------------------------\n",
            ">>> Categorical columns information <<<\n",
            "------------------------------------------------------------\n",
            "Column name: flight_number\n",
            "\n",
            "Possible categories:\n",
            "- AA234\n",
            "- AC555\n",
            "- AR50\n",
            "- AZ456\n",
            "- BB567\n",
            "- BG789\n",
            "- CF567\n",
            "- DD234\n",
            "- DR234\n",
            "- EE567\n",
            "- ES876\n",
            "- FA112\n",
            "- FJ123\n",
            "- GN987\n",
            "- HT456\n",
            "- IR23\n",
            "- JP789\n",
            "- KL234\n",
            "- LH456\n",
            "- LM567\n",
            "- MN321\n",
            "- NU456\n",
            "- OP789\n",
            "- PN567\n",
            "- Q900\n",
            "- QR123\n",
            "- RH177\n",
            "- RUH100\n",
            "- RUH101\n",
            "- RUH102\n",
            "- RUH103\n",
            "- RUH104\n",
            "- SL30\n",
            "- SL32\n",
            "- SW48\n",
            "\n",
            "Frequency of each category:\n",
            "- AA234: 1\n",
            "- AC555: 1\n",
            "- AR50: 1\n",
            "- AZ456: 1\n",
            "- BB567: 1\n",
            "- BG789: 1\n",
            "- CF567: 1\n",
            "- DD234: 1\n",
            "- DR234: 1\n",
            "- EE567: 1\n",
            "- ES876: 1\n",
            "- FA112: 1\n",
            "- FJ123: 1\n",
            "- GN987: 1\n",
            "- HT456: 1\n",
            "- IR23: 1\n",
            "- JP789: 1\n",
            "- KL234: 1\n",
            "- LH456: 1\n",
            "- LM567: 1\n",
            "- MN321: 1\n",
            "- NU456: 1\n",
            "- OP789: 1\n",
            "- PN567: 1\n",
            "- Q900: 1\n",
            "- QR123: 1\n",
            "- RH177: 1\n",
            "- RUH100: 1\n",
            "- RUH101: 1\n",
            "- RUH102: 1\n",
            "- RUH103: 1\n",
            "- RUH104: 1\n",
            "- SL30: 1\n",
            "- SL32: 1\n",
            "- SW48: 1\n",
            "\n",
            "------------------------------------------------------------\n",
            "------------------------------------------------------------\n",
            "Column name: airline\n",
            "\n",
            "Possible categories:\n",
            "- Astral Airlines\n",
            "- Astral Charter Airlines\n",
            "- Aurora Air\n",
            "- Aurora Zeppelin Airlines\n",
            "- Bluebird Air\n",
            "- BlueGalaxy Airways\n",
            "- Celestial Falcon Airlines\n",
            "- Delta Dawn Airways\n",
            "- Dreamliner Airlines\n",
            "- Eclipse Airlines\n",
            "- Enchanted Skies Express\n",
            "- Firebird Airlines\n",
            "- Fantasy Jetlines\n",
            "- Galaxy Nexus Airways\n",
            "- Heavenly Travels\n",
            "- Infinity Airways\n",
            "- Jade Phoenix Airlines\n",
            "- Kingdom Lines\n",
            "- Horizon Lines\n",
            "- Luminous Moon Air\n",
            "- Mystical Airwaves\n",
            "- Nebula Airways\n",
            "- Olympus Airlines\n",
            "- Pegasus Network\n",
            "- Quantum Airlines\n",
            "- Quantum Rising Airlines\n",
            "- Riyadh Air\n",
            "- Rising Unicorn Heliways\n",
            "- SilverStream Airlines\n",
            "- SkyWings Airlines\n",
            "\n",
            "Frequency of each category:\n",
            "- Astral Airlines: 1\n",
            "- Astral Charter Airlines: 1\n",
            "- Aurora Air: 1\n",
            "- Aurora Zeppelin Airlines: 1\n",
            "- Bluebird Air: 1\n",
            "- BlueGalaxy Airways: 1\n",
            "- Celestial Falcon Airlines: 1\n",
            "- Delta Dawn Airways: 1\n",
            "- Dreamliner Airlines: 1\n",
            "- Eclipse Airlines: 1\n",
            "- Enchanted Skies Express: 1\n",
            "- Firebird Airlines: 1\n",
            "- Fantasy Jetlines: 1\n",
            "- Galaxy Nexus Airways: 1\n",
            "- Heavenly Travels: 1\n",
            "- Infinity Airways: 1\n",
            "- Jade Phoenix Airlines: 1\n",
            "- Kingdom Lines: 1\n",
            "- Horizon Lines: 1\n",
            "- Luminous Moon Air: 1\n",
            "- Mystical Airwaves: 1\n",
            "- Nebula Airways: 1\n",
            "- Olympus Airlines: 1\n",
            "- Pegasus Network: 1\n",
            "- Quantum Airlines: 1\n",
            "- Quantum Rising Airlines: 1\n",
            "- Riyadh Air: 1\n",
            "- Rising Unicorn Heliways: 5\n",
            "- SilverStream Airlines: 2\n",
            "- SkyWings Airlines: 1\n",
            "\n",
            "------------------------------------------------------------\n",
            "------------------------------------------------------------\n",
            "Column name: arrival_airport_code\n",
            "\n",
            "Possible categories:\n",
            "- RUH\n",
            "- EG\n",
            "- CA\n",
            "- IN\n",
            "- AU\n",
            "- ES\n",
            "- BR\n",
            "- JP\n",
            "- TR\n",
            "- IR\n",
            "- KR\n",
            "- MY\n",
            "- GR\n",
            "- KD\n",
            "- UE\n",
            "- US\n",
            "- PK\n",
            "\n",
            "Frequency of each category:\n",
            "- RUH: 16\n",
            "- EG: 1\n",
            "- CA: 2\n",
            "- IN: 1\n",
            "- AU: 1\n",
            "- ES: 1\n",
            "- BR: 1\n",
            "- JP: 2\n",
            "- TR: 2\n",
            "- IR: 1\n",
            "- KR: 1\n",
            "- MY: 1\n",
            "- GR: 1\n",
            "- KD: 1\n",
            "- UE: 1\n",
            "- US: 1\n",
            "- PK: 1\n",
            "\n",
            "------------------------------------------------------------\n",
            "------------------------------------------------------------\n",
            "Column name: departure_airport_code\n",
            "\n",
            "Possible categories:\n",
            "- US\n",
            "- CA\n",
            "- RUH\n",
            "- IT\n",
            "- AU\n",
            "- JP\n",
            "- NL\n",
            "- DE\n",
            "- QA\n",
            "- SU\n",
            "- CN\n",
            "- AE\n",
            "- PK\n",
            "- UE\n",
            "\n",
            "Frequency of each category:\n",
            "- US: 4\n",
            "- CA: 1\n",
            "- RUH: 19\n",
            "- IT: 1\n",
            "- AU: 1\n",
            "- JP: 1\n",
            "- NL: 1\n",
            "- DE: 1\n",
            "- QA: 1\n",
            "- SU: 1\n",
            "- CN: 1\n",
            "- AE: 1\n",
            "- PK: 1\n",
            "- UE: 1\n",
            "\n",
            "------------------------------------------------------------\n",
            "------------------------------------------------------------\n",
            "Column name: departure_gate_number\n",
            "\n",
            "Possible categories:\n",
            "- \n",
            "- 7E\n",
            "- 2C\n",
            "- 5B\n",
            "- 3D\n",
            "- 5A\n",
            "- 7D\n",
            "- 3B\n",
            "- 4E\n",
            "\n",
            "Frequency of each category:\n",
            "- : 33\n",
            "- 7E: 1\n",
            "- 2C: 1\n",
            "- 5B: 3\n",
            "- 3D: 1\n",
            "- 5A: 2\n",
            "- 7D: 2\n",
            "- 3B: 1\n",
            "- 4E: 1\n",
            "\n",
            "------------------------------------------------------------\n",
            "------------------------------------------------------------\n",
            "Column name: arrival_gate_number\n",
            "\n",
            "Possible categories:\n",
            "- \n",
            "- 5D\n",
            "- 2F\n",
            "- 4F\n",
            "- 3F\n",
            "- 4C\n",
            "- 2E\n",
            "- 9D\n",
            "- 7E\n",
            "- 12a\n",
            "\n",
            "Frequency of each category:\n",
            "- : 34\n",
            "- 5D: 1\n",
            "- 2F: 1\n",
            "- 4F: 1\n",
            "- 3F: 2\n",
            "- 4C: 2\n",
            "- 2E: 1\n",
            "- 9D: 1\n",
            "- 7E: 1\n",
            "- 12a: 1\n",
            "\n",
            "------------------------------------------------------------\n",
            "------------------------------------------------------------\n",
            "Column name: flight_status\n",
            "\n",
            "Possible categories:\n",
            "- boarding\n",
            "- landed\n",
            "- cancelled\n",
            "- in-flight\n",
            "- on time\n",
            "- check-in\n",
            "\n",
            "Frequency of each category:\n",
            "- boarding: 4\n",
            "- landed: 19\n",
            "- cancelled: 11\n",
            "- in-flight: 2\n",
            "- on time: 8\n",
            "- check-in: 1\n",
            "\n",
            "------------------------------------------------------------\n",
            "------------------------------------------------------------\n",
            "Column name: seat_number\n",
            "\n",
            "Possible categories:\n",
            "- B13\n",
            "- H15\n",
            "- J17\n",
            "- F20\n",
            "- J23\n",
            "- K22\n",
            "- A5\n",
            "- B7\n",
            "- B14\n",
            "- C16\n",
            "- J27\n",
            "- H16\n",
            "- G14\n",
            "- F13\n",
            "- G15\n",
            "- K20\n",
            "- J18\n",
            "- H17\n",
            "- J19\n",
            "- A11\n",
            "- D11\n",
            "- C9\n",
            "- F15\n",
            "- E13\n",
            "- A3\n",
            "- B5\n",
            "- C7\n",
            "- F28\n",
            "- G30\n",
            "- E20\n",
            "- C15\n",
            "- B4\n",
            "- C6\n",
            "- D17\n",
            "- D9\n",
            "- E11\n",
            "- F21\n",
            "- G23\n",
            "- J34\n",
            "- H32\n",
            "- H25\n",
            "- H18\n",
            "- G17\n",
            "- H19\n",
            "- J21\n",
            "- K23\n",
            "- H20\n",
            "- J22\n",
            "- K24\n",
            "- A7\n",
            "- D8\n",
            "- E10\n",
            "- F12\n",
            "- K36\n",
            "- A19\n",
            "- B21\n",
            "- K29\n",
            "- C12\n",
            "- A6\n",
            "- B20\n",
            "- C22\n",
            "- H23\n",
            "- B11\n",
            "- G21\n",
            "- C13\n",
            "- D15\n",
            "- K27\n",
            "- A10\n",
            "- E17\n",
            "- F19\n",
            "- C14\n",
            "- E18\n",
            "- B12\n",
            "- K28\n",
            "- G22\n",
            "- H24\n",
            "- E19\n",
            "- G24\n",
            "- F11\n",
            "- G13\n",
            "- E26\n",
            "- A12\n",
            "- B9\n",
            "- D13\n",
            "- C11\n",
            "- E15\n",
            "- J20\n",
            "- F17\n",
            "\n",
            "Frequency of each category:\n",
            "- B13: 2\n",
            "- H15: 1\n",
            "- J17: 1\n",
            "- F20: 1\n",
            "- J23: 1\n",
            "- K22: 1\n",
            "- A5: 1\n",
            "- B7: 1\n",
            "- B14: 1\n",
            "- C16: 1\n",
            "- J27: 1\n",
            "- H16: 1\n",
            "- G14: 1\n",
            "- F13: 1\n",
            "- G15: 1\n",
            "- K20: 1\n",
            "- J18: 1\n",
            "- H17: 1\n",
            "- J19: 1\n",
            "- A11: 2\n",
            "- D11: 1\n",
            "- C9: 1\n",
            "- F15: 1\n",
            "- E13: 1\n",
            "- A3: 1\n",
            "- B5: 1\n",
            "- C7: 1\n",
            "- F28: 1\n",
            "- G30: 1\n",
            "- E20: 1\n",
            "- C15: 1\n",
            "- B4: 1\n",
            "- C6: 1\n",
            "- D17: 1\n",
            "- D9: 1\n",
            "- E11: 1\n",
            "- F21: 2\n",
            "- G23: 2\n",
            "- J34: 1\n",
            "- H32: 1\n",
            "- H25: 2\n",
            "- H18: 1\n",
            "- G17: 1\n",
            "- H19: 1\n",
            "- J21: 1\n",
            "- K23: 1\n",
            "- H20: 1\n",
            "- J22: 1\n",
            "- K24: 1\n",
            "- A7: 1\n",
            "- D8: 1\n",
            "- E10: 1\n",
            "- F12: 1\n",
            "- K36: 1\n",
            "- A19: 1\n",
            "- B21: 1\n",
            "- K29: 1\n",
            "- C12: 1\n",
            "- A6: 1\n",
            "- B20: 1\n",
            "- C22: 1\n",
            "- H23: 1\n",
            "- B11: 1\n",
            "- G21: 1\n",
            "- C13: 1\n",
            "- D15: 1\n",
            "- K27: 1\n",
            "- A10: 1\n",
            "- E17: 1\n",
            "- F19: 1\n",
            "- C14: 1\n",
            "- E18: 1\n",
            "- B12: 1\n",
            "- K28: 1\n",
            "- G22: 1\n",
            "- H24: 1\n",
            "- E19: 1\n",
            "- G24: 1\n",
            "- F11: 1\n",
            "- G13: 1\n",
            "- E26: 1\n",
            "- A12: 1\n",
            "- B9: 1\n",
            "- D13: 1\n",
            "- C11: 1\n",
            "- E15: 1\n",
            "- J20: 1\n",
            "- F17: 1\n",
            "\n",
            "------------------------------------------------------------\n",
            "------------------------------------------------------------\n",
            "Column name: luggage_status\n",
            "\n",
            "Possible categories:\n",
            "- checked\n",
            "- Arrived\n",
            "- claimed\n",
            "- lost\n",
            "- In-transit\n",
            "- in-transit\n",
            "- \n",
            "- arrived\n",
            "- ariived\n",
            "\n",
            "Frequency of each category:\n",
            "- checked: 16\n",
            "- Arrived: 9\n",
            "- claimed: 45\n",
            "- lost: 7\n",
            "- In-transit: 6\n",
            "- in-transit: 19\n",
            "- : 1\n",
            "- arrived: 1\n",
            "- ariived: 1\n",
            "\n",
            "------------------------------------------------------------\n",
            ">>> Free text columns information <<<\n",
            "------------------------------------------------------------\n",
            "Column name: id_number\n",
            "\n",
            "Shortest text(s): 11x22y33\n",
            "\n",
            "Longest text(s): f01h234567\n",
            "\n",
            "------------------------------------------------------------\n",
            "------------------------------------------------------------\n",
            "Column name: first_name\n",
            "\n",
            "Shortest text(s): Max\n",
            "\n",
            "Longest text(s): Whiskington, Whiskington\n",
            "\n",
            "------------------------------------------------------------\n",
            "------------------------------------------------------------\n",
            "Column name: last_name\n",
            "\n",
            "Shortest text(s): Furball, Harmony\n",
            "\n",
            "Longest text(s): Thunderstrike, Thunderstrike\n",
            "\n",
            "------------------------------------------------------------\n",
            "------------------------------------------------------------\n",
            "Column name: phone_number\n",
            "\n",
            "All items have the same length: 14\n",
            "\n",
            "------------------------------------------------------------\n",
            "------------------------------------------------------------\n",
            "Column name: email\n",
            "\n",
            "Shortest text(s): john.smiggles@example.com, luna.stardust@example.com\n",
            "\n",
            "Longest text(s): whiskington.furrington@example.com, whiskington.furrington@example.com\n",
            "\n",
            "------------------------------------------------------------\n",
            ">>> END SUMMARY REPORT <<<\n",
            "--------------------------------------------------------------------------------\n",
            ">>> USER GENERATED REPORT <<<\n",
            "\n",
            "Enter the option number:\n",
            "1. view or modify a table\n",
            "2. plot\n",
            "3. other\n",
            "or anything else to stop\n",
            "stop pls\n"
          ]
        }
      ]
    },
    {
      "cell_type": "markdown",
      "source": [
        "###exampe usage for aggregate\n"
      ],
      "metadata": {
        "id": "j1xXlIs9v8mr"
      }
    },
    {
      "cell_type": "code",
      "source": [
        "displayAggregatePlot(data_file, grouping_columns=['flight_number', 'flight_date'],  arregate_column='weight_kg', operator='sum', table='Luggage')\n",
        "displayAggregatePlot(data_file, grouping_columns=['passenger_id_number'],  arregate_column='weight_kg', operator='sum', table='Luggage')\n",
        "displayAggregatePlot(data_file, grouping_columns=['departure_date'],  arregate_column='flight_number', operator='count', table='FlightInfo')\n",
        "displayAggregatePlot(data_file, grouping_columns=['flight_number', 'flight_date'],  arregate_column='passenger_id_number', operator='count', table='passengerFlight')"
      ],
      "metadata": {
        "colab": {
          "base_uri": "https://localhost:8080/",
          "height": 1000
        },
        "id": "6nWPgwZ8tJ4-",
        "outputId": "c0a1a749-cea2-4066-daa2-73c15d062cca"
      },
      "execution_count": 32,
      "outputs": [
        {
          "output_type": "display_data",
          "data": {
            "text/plain": [
              "<Figure size 1000x600 with 1 Axes>"
            ],
            "image/png": "[encoded data removed]"
          },
          "metadata": {}
        },
        {
          "output_type": "display_data",
          "data": {
            "text/plain": [
              "<Figure size 1000x600 with 1 Axes>"
            ],
            "image/png": "[encoded data removed]"
          },
          "metadata": {}
        },
        {
          "output_type": "display_data",
          "data": {
            "text/plain": [
              "<Figure size 1000x600 with 1 Axes>"
            ],
            "image/png": "[encoded data removed]"
          },
          "metadata": {}
        },
        {
          "output_type": "display_data",
          "data": {
            "text/plain": [
              "<Figure size 1000x600 with 1 Axes>"
            ],
            "image/png": "[encoded data removed]"
          },
          "metadata": {}
        }
      ]
    },
    {
      "cell_type": "markdown",
      "source": [
        "###example use for tickets"
      ],
      "metadata": {
        "id": "zDlUb7mmwDkl"
      }
    },
    {
      "cell_type": "code",
      "source": [
        "result = passengerFlightInfo(data_file, flight_date='14/12/2023')\n",
        "printTable(result,  column_names=['passenger_id_number', 'first_name', 'last_name', 'seat_number',\n",
        "                                      'flight_number', 'departure_date', 'departure_time'])"
      ],
      "metadata": {
        "colab": {
          "base_uri": "https://localhost:8080/",
          "height": 336
        },
        "id": "QidqvN63wF-P",
        "outputId": "bf212a2b-135f-4a43-af8e-e0c14321487b"
      },
      "execution_count": 33,
      "outputs": [
        {
          "output_type": "display_data",
          "data": {
            "text/plain": [
              "<IPython.core.display.HTML object>"
            ],
            "text/html": [
              "<table>\n",
              "<thead>\n",
              "<tr><th>passenger_id_number  </th><th>first_name  </th><th>last_name   </th><th>seat_number  </th><th>flight_number  </th><th>departure_date  </th><th>departure_time  </th></tr>\n",
              "</thead>\n",
              "<tbody>\n",
              "<tr><td>678901234            </td><td>Fizzy       </td><td>Sparklepaws </td><td>J34          </td><td>LH456          </td><td>14/12/2023      </td><td>08:30           </td></tr>\n",
              "<tr><td>5432we987            </td><td>Oliver      </td><td>Puddlejumper</td><td>H32          </td><td>LH456          </td><td>14/12/2023      </td><td>08:30           </td></tr>\n",
              "<tr><td>111222333            </td><td>Misty       </td><td>Cloudjumper </td><td>K36          </td><td>Q900           </td><td>14/12/2023      </td><td>17:23           </td></tr>\n",
              "<tr><td>543210987            </td><td>Doodle      </td><td>Dandybrush  </td><td>A19          </td><td>Q900           </td><td>14/12/2023      </td><td>17:23           </td></tr>\n",
              "<tr><td>789012345            </td><td>Purrfect    </td><td>Harmony     </td><td>B21          </td><td>Q900           </td><td>14/12/2023      </td><td>17:23           </td></tr>\n",
              "<tr><td>123987456            </td><td>Max         </td><td>Thunderpaws </td><td>H23          </td><td>RUH100         </td><td>14/12/2023      </td><td>21:30           </td></tr>\n",
              "<tr><td>567890123            </td><td>Minnie      </td><td>Feathertail </td><td>B11          </td><td>RUH100         </td><td>14/12/2023      </td><td>21:30           </td></tr>\n",
              "<tr><td>887766554            </td><td>Whiskington </td><td>Furrington  </td><td>G21          </td><td>RUH100         </td><td>14/12/2023      </td><td>21:30           </td></tr>\n",
              "<tr><td>890123456            </td><td>Twixie      </td><td>Whiskerjoy  </td><td>C13          </td><td>RUH100         </td><td>14/12/2023      </td><td>21:30           </td></tr>\n",
              "<tr><td>123456789            </td><td>John        </td><td>Smiggles    </td><td>D15          </td><td>RUH101         </td><td>14/12/2023      </td><td>05:55           </td></tr>\n",
              "<tr><td>334455667            </td><td>Mischief    </td><td>Purrfection </td><td>K27          </td><td>RUH101         </td><td>14/12/2023      </td><td>05:55           </td></tr>\n",
              "<tr><td>456789012            </td><td>Flora       </td><td>Blossompetal</td><td>A10          </td><td>RUH101         </td><td>14/12/2023      </td><td>05:55           </td></tr>\n",
              "<tr><td>654321098            </td><td>Bubbles     </td><td>Flutterwings</td><td>E17          </td><td>RUH101         </td><td>14/12/2023      </td><td>05:55           </td></tr>\n",
              "<tr><td>901234567            </td><td>Socks       </td><td>Moonlight   </td><td>F19          </td><td>RUH101         </td><td>14/12/2023      </td><td>05:55           </td></tr>\n",
              "</tbody>\n",
              "</table>"
            ]
          },
          "metadata": {}
        }
      ]
    },
    {
      "cell_type": "markdown",
      "source": [
        "###example use for weightLimit"
      ],
      "metadata": {
        "id": "PXJQGNQhwmdX"
      }
    },
    {
      "cell_type": "code",
      "source": [
        "printTable(weightLimit(data_file, limit=35, flight_number='all', flight_date='14/12/2023'), column_names=['luggage_tag_id', 'weight_kg', 'passenger_id_number',\n",
        "                              'first_name', 'last_name', 'phone_number', 'email', 'flight_number', 'flight_date'])"
      ],
      "metadata": {
        "colab": {
          "base_uri": "https://localhost:8080/",
          "height": 357
        },
        "id": "X9jQmM2bwbUc",
        "outputId": "cefb2ebe-bebc-4a1c-8bb4-d229c84142dc"
      },
      "execution_count": 34,
      "outputs": [
        {
          "output_type": "display_data",
          "data": {
            "text/plain": [
              "<IPython.core.display.HTML object>"
            ],
            "text/html": [
              "<table>\n",
              "<thead>\n",
              "<tr><th style=\"text-align: right;\">  luggage_tag_id</th><th style=\"text-align: right;\">  weight_kg</th><th style=\"text-align: right;\">  passenger_id_number</th><th>first_name  </th><th>last_name  </th><th>phone_number  </th><th>email                         </th><th>flight_number  </th><th>flight_date  </th></tr>\n",
              "</thead>\n",
              "<tbody>\n",
              "<tr><td style=\"text-align: right;\">         2000002</td><td style=\"text-align: right;\">    14.9015</td><td style=\"text-align: right;\">            678901234</td><td>Fizzy       </td><td>Sparklepaws</td><td>(123) 678-9012</td><td>fizzy.sparklepaws@example.com </td><td>LH456          </td><td>14/12/2023   </td></tr>\n",
              "<tr><td style=\"text-align: right;\">         2000005</td><td style=\"text-align: right;\">    15.089 </td><td style=\"text-align: right;\">            678901234</td><td>Fizzy       </td><td>Sparklepaws</td><td>(123) 678-9012</td><td>fizzy.sparklepaws@example.com </td><td>LH456          </td><td>14/12/2023   </td></tr>\n",
              "<tr><td style=\"text-align: right;\">         2000019</td><td style=\"text-align: right;\">    14.5942</td><td style=\"text-align: right;\">            543210987</td><td>Doodle      </td><td>Dandybrush </td><td>(123) 543-2109</td><td>doodle.dandybrush@example.com </td><td>Q900           </td><td>14/12/2023   </td></tr>\n",
              "<tr><td style=\"text-align: right;\">         2000021</td><td style=\"text-align: right;\">    45.4053</td><td style=\"text-align: right;\">            543210987</td><td>Doodle      </td><td>Dandybrush </td><td>(123) 543-2109</td><td>doodle.dandybrush@example.com </td><td>Q900           </td><td>14/12/2023   </td></tr>\n",
              "<tr><td style=\"text-align: right;\">         2000027</td><td style=\"text-align: right;\">    34.6349</td><td style=\"text-align: right;\">            123456789</td><td>John        </td><td>Smiggles   </td><td>(123) 123-4567</td><td>john.smiggles@example.com     </td><td>RUH101         </td><td>14/12/2023   </td></tr>\n",
              "<tr><td style=\"text-align: right;\">         2000047</td><td style=\"text-align: right;\">    18.605 </td><td style=\"text-align: right;\">            123456789</td><td>John        </td><td>Smiggles   </td><td>(123) 123-4567</td><td>john.smiggles@example.com     </td><td>RUH101         </td><td>14/12/2023   </td></tr>\n",
              "<tr><td style=\"text-align: right;\">         2000078</td><td style=\"text-align: right;\">    37.5266</td><td style=\"text-align: right;\">            123456789</td><td>John        </td><td>Smiggles   </td><td>(123) 123-4567</td><td>john.smiggles@example.com     </td><td>RUH101         </td><td>14/12/2023   </td></tr>\n",
              "<tr><td style=\"text-align: right;\">         2000079</td><td style=\"text-align: right;\">    24.6921</td><td style=\"text-align: right;\">            567890123</td><td>Minnie      </td><td>Feathertail</td><td>(123) 456-1111</td><td>minnie.feathertail@example.com</td><td>RUH100         </td><td>14/12/2023   </td></tr>\n",
              "<tr><td style=\"text-align: right;\">         2000082</td><td style=\"text-align: right;\">    37.937 </td><td style=\"text-align: right;\">            567890123</td><td>Minnie      </td><td>Feathertail</td><td>(123) 456-1111</td><td>minnie.feathertail@example.com</td><td>RUH100         </td><td>14/12/2023   </td></tr>\n",
              "<tr><td style=\"text-align: right;\">         2000100</td><td style=\"text-align: right;\">    33.9454</td><td style=\"text-align: right;\">            678901234</td><td>Fizzy       </td><td>Sparklepaws</td><td>(123) 678-9012</td><td>fizzy.sparklepaws@example.com </td><td>LH456          </td><td>14/12/2023   </td></tr>\n",
              "<tr><td style=\"text-align: right;\">         2000123</td><td style=\"text-align: right;\">    28.6487</td><td style=\"text-align: right;\">            123456789</td><td>John        </td><td>Smiggles   </td><td>(123) 123-4567</td><td>john.smiggles@example.com     </td><td>RUH101         </td><td>14/12/2023   </td></tr>\n",
              "<tr><td style=\"text-align: right;\">         2000133</td><td style=\"text-align: right;\">    10.1337</td><td style=\"text-align: right;\">            678901234</td><td>Fizzy       </td><td>Sparklepaws</td><td>(123) 678-9012</td><td>fizzy.sparklepaws@example.com </td><td>LH456          </td><td>14/12/2023   </td></tr>\n",
              "<tr><td style=\"text-align: right;\">         2000138</td><td style=\"text-align: right;\">    36.8117</td><td style=\"text-align: right;\">            678901234</td><td>Fizzy       </td><td>Sparklepaws</td><td>(123) 678-9012</td><td>fizzy.sparklepaws@example.com </td><td>LH456          </td><td>14/12/2023   </td></tr>\n",
              "<tr><td style=\"text-align: right;\">         2000143</td><td style=\"text-align: right;\">    17.6935</td><td style=\"text-align: right;\">            543210987</td><td>Doodle      </td><td>Dandybrush </td><td>(123) 543-2109</td><td>doodle.dandybrush@example.com </td><td>Q900           </td><td>14/12/2023   </td></tr>\n",
              "<tr><td style=\"text-align: right;\">         2000154</td><td style=\"text-align: right;\">    18.4775</td><td style=\"text-align: right;\">            678901234</td><td>Fizzy       </td><td>Sparklepaws</td><td>(123) 678-9012</td><td>fizzy.sparklepaws@example.com </td><td>LH456          </td><td>14/12/2023   </td></tr>\n",
              "</tbody>\n",
              "</table>"
            ]
          },
          "metadata": {}
        }
      ]
    },
    {
      "cell_type": "markdown",
      "source": [
        "---\n",
        "---\n",
        "# **Section 4: Automated testing**"
      ],
      "metadata": {
        "id": "XfkTiiitYosP"
      }
    },
    {
      "cell_type": "markdown",
      "source": [
        "## Test definitions **(DO NOT MODIFY)**\n",
        "This block defines unit tests which we will apply to your code.\n",
        "\n",
        "### **Do not modify this block, as we will replace its contents with a fresh copy when executing your code.**\n",
        "\n",
        "Please execute this block to load the definitions and then skip to the \"Run tests\" section below."
      ],
      "metadata": {
        "id": "g4hSuFT2YqTX"
      }
    },
    {
      "cell_type": "code",
      "source": [
        "import unittest\n",
        "\n",
        "class TestRequiredOperations(unittest.TestCase):\n",
        "\n",
        "  def _testDictOfLists(self, result, func):\n",
        "    # Test if this is a dictionary\n",
        "    self.assertIsInstance(result, dict,\n",
        "                          msg=\"Result of {0} must be a dictionary, got {1}\".format(func, type(result)))\n",
        "\n",
        "    # Test that each key is a string and each value is a list\n",
        "    for (col_name, col_values) in result.items():\n",
        "      self.assertIsInstance(col_name, str,\n",
        "                            msg=\"Keys of {0} dictionary must be string column names, got {1}\".format(func, type(col_name)))\n",
        "      self.assertIsInstance(col_values, list,\n",
        "                            msg=\"Values of {0} dictionary must be lists, got {1}\".format(func, type(col_values)))\n",
        "\n",
        "  def test_getNumericColumns(self):\n",
        "    result = getNumericColumns(data_file)\n",
        "\n",
        "    self._testDictOfLists(result, 'getNumericColumns')\n",
        "\n",
        "    for (col_name, col_values ) in result.items():\n",
        "      # Test that each value is numeric\n",
        "      for value in col_values:\n",
        "        self.assertTrue(\n",
        "            (type(value) is int)\n",
        "            or (type(value) is float),\n",
        "            msg='Numeric column {0}: Value {1} is stored as type {2}, not numeric'.format(col_name, value, type(value))\n",
        "        )\n",
        "\n",
        "  def test_getFreeTextColumns(self):\n",
        "    result = getFreeTextColumns(data_file)\n",
        "\n",
        "    self._testDictOfLists(result, 'getFreeTextColumns')\n",
        "\n",
        "    for (col_name, col_values) in result.items():\n",
        "      # Test that each value is numeric\n",
        "      for value in col_values:\n",
        "        self.assertIsInstance(value, str,\n",
        "                              msg=\"Free-text column {0}: Value {1} is stored as type {2}, not string\".format(col_name, value, type(value)))\n",
        "\n",
        "  def test_getCategoricalColumns(self):\n",
        "    result = getCategoricalColumns(data_file)\n",
        "\n",
        "    self._testDictOfLists(result, 'getCategoricalColumns')\n",
        "\n",
        "    found_at_least_three_values_at_least_once = False\n",
        "\n",
        "    for (col_name, col_values) in result.items():\n",
        "      # Count up value frequencies\n",
        "      value_freqs = {}\n",
        "      for value in col_values:\n",
        "        # Ensure that values are either int or string\n",
        "        self.assertTrue(\n",
        "            (type(value) is int)\n",
        "            or (type(value) is str),\n",
        "            msg='Categorical column {0}: value {1} is stored as type {2}, not valid for categorical'.format(col_name, value, type(value))\n",
        "        )\n",
        "        value_freqs[value] = value_freqs.get(value, 0) + 1\n",
        "\n",
        "      if len(value_freqs) >= 3:\n",
        "        found_at_least_three_values_at_least_once = True\n",
        "\n",
        "    self.assertTrue(found_at_least_three_values_at_least_once,\n",
        "                    msg=\"No categorical columns found that include at least 3 unique values\")\n",
        "\n",
        "\n",
        "  def test_getAllRows(self, table_name='MAIN'):\n",
        "    result = getAllRows(data_file)\n",
        "\n",
        "    max_nrow = 0\n",
        "\n",
        "    self.assertIsInstance(result, dict,\n",
        "                          msg='Result of getAllRows must be a dict, got {0}'.format(type(result)))\n",
        "    # Test each one individually\n",
        "    for (tbl_name, tbl) in result.items():\n",
        "      # Make sure the table is a list\n",
        "      self.assertIsInstance(tbl, list,\n",
        "                            msg=\"Table {0}: must be stored as a list, got type {1}\".format(tbl_name, type(tbl)))\n",
        "\n",
        "      # Make sure each item in the list is a dict (data row)\n",
        "      for i in range(len(tbl)):\n",
        "        row = tbl[i]\n",
        "\n",
        "        self.assertIsInstance(row, dict,\n",
        "                              msg=\"Table {0} Row {1}: each element must be stored as a dict, got type {2}\".format(tbl_name, i, type(row)))\n",
        "\n",
        "        # Make sure each key/value pair in the dict (col header/value) is a string and atomic type\n",
        "        for (col_name, col_value) in row.items():\n",
        "          self.assertIsInstance(col_name, str,\n",
        "                                msg=\"Table {0} Row {1}: column headers must be stored as str, got type {2}\".format(tbl_name, i, type(col_name)))\n",
        "          self.assertTrue(\n",
        "              (not (type(col_value) is list))\n",
        "              and (not (type(col_value) is dict))\n",
        "              and (not (type(col_value) is tuple)),\n",
        "              msg=\"Table {0} Row {1}: column values must be atomic, got type {2}\".format(tbl_name, i, type(col_value))\n",
        "          )\n",
        "\n",
        "      max_nrow = max(max_nrow, len(tbl))\n",
        "\n",
        "    self.assertGreaterEqual(max_nrow, 3, msg='Database must have at least one table with 3 or more rows, found max {0}'.format(max_nrow))"
      ],
      "metadata": {
        "id": "t35vKNE9b7Cn"
      },
      "execution_count": 35,
      "outputs": []
    },
    {
      "cell_type": "markdown",
      "source": [
        "---\n",
        "## Run tests **(FOR YOU TO EXECUTE)**\n",
        "\n",
        "The block below calls the unit tests defined in the \"Test definitions\" section on your implementations for the functions in .\"Required functions\".\n",
        "\n",
        "**Please use this code to test your implementations. Your code should pass all tests when you have implemented the specified behaviours described in the \"Automated testing applied\" section.**\n",
        "\n",
        "**NOTE: You will need to update `data_file` to refer to the correct data file for your implementation.**\n",
        "\n",
        "### Do not modify the test definitions above to make your code pass. If your code is not passing the tests, modify your implementation to correct the issue(s)."
      ],
      "metadata": {
        "id": "MZQSvOpNZBrn"
      }
    },
    {
      "cell_type": "code",
      "source": [
        "data_file = '230190159.db'\n",
        "\n",
        "_ = unittest.main(argv=[''], verbosity=2, exit=False)"
      ],
      "metadata": {
        "id": "awrMx8oLZSWj",
        "colab": {
          "base_uri": "https://localhost:8080/"
        },
        "outputId": "e0f1e120-9d97-4613-f854-d7cb04264982"
      },
      "execution_count": 36,
      "outputs": [
        {
          "output_type": "stream",
          "name": "stderr",
          "text": [
            "test_getAllRows (__main__.TestRequiredOperations) ... ok\n",
            "test_getCategoricalColumns (__main__.TestRequiredOperations) ... ok\n",
            "test_getFreeTextColumns (__main__.TestRequiredOperations) ... ok\n",
            "test_getNumericColumns (__main__.TestRequiredOperations) ... ok\n",
            "\n",
            "----------------------------------------------------------------------\n",
            "Ran 4 tests in 0.081s\n",
            "\n",
            "OK\n"
          ]
        }
      ]
    }
  ]
}